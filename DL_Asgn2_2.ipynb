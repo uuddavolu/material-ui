{
  "nbformat": 4,
  "nbformat_minor": 0,
  "metadata": {
    "colab": {
      "name": "DL_Asgn2_2.ipynb",
      "provenance": [],
      "collapsed_sections": []
    },
    "kernelspec": {
      "display_name": "Python 3",
      "name": "python3"
    },
    "accelerator": "GPU"
  },
  "cells": [
    {
      "cell_type": "markdown",
      "metadata": {
        "id": "R-mtr30n4i8w"
      },
      "source": [
        "# **Question No.2. NLP Dataset: Sentiment Analysis dataset**\n",
        "\n",
        "**Assignment Group : 054**\n",
        "\n",
        "Sankara Kiran Katta (2019AH04113)\n",
        "\n",
        "Murali Mohan Mothupally (2019AH04110)\n",
        "\n",
        "Udaya Kumar Uddavolu (2019AH04029)"
      ]
    },
    {
      "cell_type": "code",
      "metadata": {
        "id": "IHTzYqKZ7auw",
        "colab": {
          "base_uri": "https://localhost:8080/"
        },
        "outputId": "0e689501-829c-40a1-9568-2fd607b65072"
      },
      "source": [
        "!pip install tensorflow-hub\n",
        "!pip install tensorflow-datasets"
      ],
      "execution_count": null,
      "outputs": [
        {
          "output_type": "stream",
          "text": [
            "Requirement already satisfied: tensorflow-hub in /usr/local/lib/python3.7/dist-packages (0.12.0)\n",
            "Requirement already satisfied: numpy>=1.12.0 in /usr/local/lib/python3.7/dist-packages (from tensorflow-hub) (1.19.5)\n",
            "Requirement already satisfied: protobuf>=3.8.0 in /usr/local/lib/python3.7/dist-packages (from tensorflow-hub) (3.12.4)\n",
            "Requirement already satisfied: setuptools in /usr/local/lib/python3.7/dist-packages (from protobuf>=3.8.0->tensorflow-hub) (56.1.0)\n",
            "Requirement already satisfied: six>=1.9 in /usr/local/lib/python3.7/dist-packages (from protobuf>=3.8.0->tensorflow-hub) (1.15.0)\n",
            "Requirement already satisfied: tensorflow-datasets in /usr/local/lib/python3.7/dist-packages (4.0.1)\n",
            "Requirement already satisfied: requests>=2.19.0 in /usr/local/lib/python3.7/dist-packages (from tensorflow-datasets) (2.23.0)\n",
            "Requirement already satisfied: six in /usr/local/lib/python3.7/dist-packages (from tensorflow-datasets) (1.15.0)\n",
            "Requirement already satisfied: tqdm in /usr/local/lib/python3.7/dist-packages (from tensorflow-datasets) (4.41.1)\n",
            "Requirement already satisfied: future in /usr/local/lib/python3.7/dist-packages (from tensorflow-datasets) (0.16.0)\n",
            "Requirement already satisfied: termcolor in /usr/local/lib/python3.7/dist-packages (from tensorflow-datasets) (1.1.0)\n",
            "Requirement already satisfied: numpy in /usr/local/lib/python3.7/dist-packages (from tensorflow-datasets) (1.19.5)\n",
            "Requirement already satisfied: dm-tree in /usr/local/lib/python3.7/dist-packages (from tensorflow-datasets) (0.1.6)\n",
            "Requirement already satisfied: absl-py in /usr/local/lib/python3.7/dist-packages (from tensorflow-datasets) (0.12.0)\n",
            "Requirement already satisfied: attrs>=18.1.0 in /usr/local/lib/python3.7/dist-packages (from tensorflow-datasets) (21.2.0)\n",
            "Requirement already satisfied: dill in /usr/local/lib/python3.7/dist-packages (from tensorflow-datasets) (0.3.3)\n",
            "Requirement already satisfied: promise in /usr/local/lib/python3.7/dist-packages (from tensorflow-datasets) (2.3)\n",
            "Requirement already satisfied: tensorflow-metadata in /usr/local/lib/python3.7/dist-packages (from tensorflow-datasets) (0.30.0)\n",
            "Requirement already satisfied: importlib-resources; python_version < \"3.9\" in /usr/local/lib/python3.7/dist-packages (from tensorflow-datasets) (5.1.2)\n",
            "Requirement already satisfied: protobuf>=3.6.1 in /usr/local/lib/python3.7/dist-packages (from tensorflow-datasets) (3.12.4)\n",
            "Requirement already satisfied: certifi>=2017.4.17 in /usr/local/lib/python3.7/dist-packages (from requests>=2.19.0->tensorflow-datasets) (2020.12.5)\n",
            "Requirement already satisfied: chardet<4,>=3.0.2 in /usr/local/lib/python3.7/dist-packages (from requests>=2.19.0->tensorflow-datasets) (3.0.4)\n",
            "Requirement already satisfied: urllib3!=1.25.0,!=1.25.1,<1.26,>=1.21.1 in /usr/local/lib/python3.7/dist-packages (from requests>=2.19.0->tensorflow-datasets) (1.24.3)\n",
            "Requirement already satisfied: idna<3,>=2.5 in /usr/local/lib/python3.7/dist-packages (from requests>=2.19.0->tensorflow-datasets) (2.10)\n",
            "Requirement already satisfied: googleapis-common-protos<2,>=1.52.0 in /usr/local/lib/python3.7/dist-packages (from tensorflow-metadata->tensorflow-datasets) (1.53.0)\n",
            "Requirement already satisfied: zipp>=0.4; python_version < \"3.8\" in /usr/local/lib/python3.7/dist-packages (from importlib-resources; python_version < \"3.9\"->tensorflow-datasets) (3.4.1)\n",
            "Requirement already satisfied: setuptools in /usr/local/lib/python3.7/dist-packages (from protobuf>=3.6.1->tensorflow-datasets) (56.1.0)\n"
          ],
          "name": "stdout"
        }
      ]
    },
    {
      "cell_type": "markdown",
      "metadata": {
        "id": "aPR1Km5wa81v"
      },
      "source": [
        "# 1. Import Libraries"
      ]
    },
    {
      "cell_type": "code",
      "metadata": {
        "id": "2ew7HTbPpCJH",
        "colab": {
          "base_uri": "https://localhost:8080/"
        },
        "outputId": "f69e4a7c-096a-47a2-f718-059bdd8c2b52"
      },
      "source": [
        "import os\n",
        "import numpy as np\n",
        "import pandas as pd\n",
        "import tensorflow as tf\n",
        "import tensorflow_hub as hub\n",
        "import tensorflow_datasets as tfds\n",
        "import copy\n",
        "from sklearn.model_selection import train_test_split\n",
        "import matplotlib.pyplot as plt\n",
        "from tensorflow.keras.layers import Dense, Dropout\n",
        "\n",
        "print(\"Version: \", tf.__version__)\n",
        "print(\"Eager mode: \", tf.executing_eagerly())\n",
        "print(\"Hub version: \", hub.__version__)\n",
        "print(\"GPU is\", \"available\" if tf.config.list_physical_devices(\"GPU\") else \"NOT AVAILABLE\")"
      ],
      "execution_count": null,
      "outputs": [
        {
          "output_type": "stream",
          "text": [
            "Version:  2.4.1\n",
            "Eager mode:  True\n",
            "Hub version:  0.12.0\n",
            "GPU is available\n"
          ],
          "name": "stdout"
        }
      ]
    },
    {
      "cell_type": "markdown",
      "metadata": {
        "id": "rrWoTMTCa4iN"
      },
      "source": [
        "# Data Visualization"
      ]
    },
    {
      "cell_type": "markdown",
      "metadata": {
        "id": "DgDe69phzhlp"
      },
      "source": [
        "## Download Data\n",
        "The data set is downloaded using tensorflow_datasets library using dataset name Sentiment140\n",
        "\n",
        "While downloading the data is devided into train, test and validation sets."
      ]
    },
    {
      "cell_type": "code",
      "metadata": {
        "id": "jK7jvlHpBq6d"
      },
      "source": [
        "(train_data, validation_data, test_data), info = tfds.load('Sentiment140', with_info=True, as_supervised=True,\n",
        "split=['train+test[:95%]','train+test[95%:99%]', 'train+test[99%:]'])"
      ],
      "execution_count": null,
      "outputs": []
    },
    {
      "cell_type": "markdown",
      "metadata": {
        "id": "lbe8wNX7z53p"
      },
      "source": [
        "## Visualize Data"
      ]
    },
    {
      "cell_type": "markdown",
      "metadata": {
        "id": "oJ-H93pp9Gau"
      },
      "source": [
        "### a. Print at least two movie reviews from each class of the dataset, for a sanity check that labels match the text."
      ]
    },
    {
      "cell_type": "code",
      "metadata": {
        "id": "pHNP7y_EkN4A"
      },
      "source": [
        "train_examples_batch, train_labels_batch = next(iter(train_data.batch(160000)))"
      ],
      "execution_count": null,
      "outputs": []
    },
    {
      "cell_type": "code",
      "metadata": {
        "id": "RzBt7ocAYATL"
      },
      "source": [
        "test_examples_batch, test_labels_batch = next(iter(test_data.batch(16000)))"
      ],
      "execution_count": null,
      "outputs": []
    },
    {
      "cell_type": "code",
      "metadata": {
        "colab": {
          "base_uri": "https://localhost:8080/"
        },
        "id": "Hof4N7tdAlfV",
        "outputId": "e3e4a736-a8ba-41af-832c-71191b89b018"
      },
      "source": [
        "positiveRatedArr = np.where(train_labels_batch == 4)\n",
        "negativeRatedArr = np.where(train_labels_batch == 0)\n",
        "print('Text for label = 4 :')\n",
        "print('---------------------')\n",
        "for i in range(3):\n",
        "  print('Text : {}'.format(train_examples_batch[positiveRatedArr[0][i]]))\n",
        "print()\n",
        "print('Text for label = 0 :')\n",
        "print('---------------------')\n",
        "for i in range(3):\n",
        "  print('Label : {}'.format(train_examples_batch[negativeRatedArr[0][i]]))"
      ],
      "execution_count": null,
      "outputs": [
        {
          "output_type": "stream",
          "text": [
            "Text for label = 4 :\n",
            "---------------------\n",
            "Text : b\"i'm 10x cooler than all of you! \"\n",
            "Text : b'what a beautiful day not to got to my first class '\n",
            "Text : b\".@HildyGottlieb &amp; I was just saying to Maha'al yesterday, everything we ever needed to know was in Beatles' lyrics - you prove my point! \"\n",
            "\n",
            "Text for label = 0 :\n",
            "---------------------\n",
            "Label : b'O.kk? Thats weird I cant stop following people on twitter... I have tons of people to unfollow '\n",
            "Label : b'kinda sad and confused  why do guys do this?'\n",
            "Label : b'Working through hundreds of assignments '\n"
          ],
          "name": "stdout"
        }
      ]
    },
    {
      "cell_type": "markdown",
      "metadata": {
        "id": "CTLljEoLCN5H"
      },
      "source": [
        "### b. Plot a bar graph of class distribution in a dataset. Each bar depicts the number of tweets belonging to a particular sentiment. (recommended - matplotlib/seaborn libraries)\n"
      ]
    },
    {
      "cell_type": "code",
      "metadata": {
        "colab": {
          "base_uri": "https://localhost:8080/",
          "height": 350
        },
        "id": "FKSvE19G-_oQ",
        "outputId": "c3151ff0-eabe-4417-dfc5-e8e2087e71d5"
      },
      "source": [
        "cnt = [0, 4]\n",
        "values = [negativeRatedArr[0].size, positiveRatedArr[0].size]\n",
        "\n",
        "fig = plt.figure(figsize = (10, 5))\n",
        " \n",
        "# creating the bar plot\n",
        "plt.bar(cnt, values, color ='maroon',\n",
        "        width = 0.4)\n",
        " \n",
        "plt.xlabel(\"Lables\")\n",
        "plt.ylabel(\"No. of tweets\")\n",
        "plt.title(\"Tweets with labels\")\n",
        "plt.show()"
      ],
      "execution_count": null,
      "outputs": [
        {
          "output_type": "display_data",
          "data": {
            "image/png": "[encoded data removed]",
            "text/plain": [
              "<Figure size 720x360 with 1 Axes>"
            ]
          },
          "metadata": {
            "tags": [],
            "needs_background": "light"
          }
        }
      ]
    },
    {
      "cell_type": "markdown",
      "metadata": {
        "id": "x9vGJ273CW_h"
      },
      "source": [
        "### d. Print the shapes of train and test data."
      ]
    },
    {
      "cell_type": "code",
      "metadata": {
        "colab": {
          "base_uri": "https://localhost:8080/"
        },
        "id": "AGnCd8Z5Ceyv",
        "outputId": "eeb43c2a-565a-4d9b-c908-67561c375e15"
      },
      "source": [
        "train_size = len(train_examples_batch)*.99\n",
        "test_size = len(train_examples_batch)*.01\n",
        "print('Training dataset shape is {}'.format(train_size))\n",
        "print('Test dataset shape is {}'.format(test_size))"
      ],
      "execution_count": null,
      "outputs": [
        {
          "output_type": "stream",
          "text": [
            "Training dataset shape is 158400.0\n",
            "Test dataset shape is 1600.0\n"
          ],
          "name": "stdout"
        }
      ]
    },
    {
      "cell_type": "markdown",
      "metadata": {
        "id": "2bpyJSDLEXHB"
      },
      "source": [
        "# 3. Data Pre-processing "
      ]
    },
    {
      "cell_type": "markdown",
      "metadata": {
        "id": "qgL5jXOOEZHE"
      },
      "source": [
        "### Using pre-embed layer https://tfhub.dev/google/nnlm-en-dim128/1\n",
        "\n",
        "Bring the train and test data in the required format.\n"
      ]
    },
    {
      "cell_type": "code",
      "metadata": {
        "colab": {
          "base_uri": "https://localhost:8080/"
        },
        "id": "OGnx7KkVKat0",
        "outputId": "fc8b8ac7-2906-4659-f0d3-b19e5202c651"
      },
      "source": [
        "embedding = \"https://tfhub.dev/google/tf2-preview/gnews-swivel-20dim/1\"\n",
        "hub_layer = hub.KerasLayer(embedding, input_shape=[],\n",
        "                           dtype=tf.string, trainable=True)\n",
        "hub_layer(train_examples_batch[:3])"
      ],
      "execution_count": null,
      "outputs": [
        {
          "output_type": "execute_result",
          "data": {
            "text/plain": [
              "<tf.Tensor: shape=(3, 20), dtype=float32, numpy=\n",
              "array([[ 0.74521875, -0.43058357, -0.10195638,  0.8269179 , -2.126677  ,\n",
              "        -2.450484  , -1.3341991 , -0.19802694, -0.3232351 , -0.5855257 ,\n",
              "        -0.08153006,  1.4178419 ,  0.7572757 ,  0.17072797, -0.996602  ,\n",
              "         0.36943823, -0.04169073, -0.04259901, -0.3795016 , -1.3164685 ],\n",
              "       [ 0.6192465 , -1.0948324 ,  1.0879468 ,  0.83306724, -1.806097  ,\n",
              "        -2.3157938 , -1.2563314 ,  0.7989738 ,  1.0902125 ,  0.8513546 ,\n",
              "        -1.2029169 ,  0.3322251 ,  0.33671325,  0.3521787 , -1.442887  ,\n",
              "         0.35744092,  0.84385216, -0.99169934, -1.2549577 , -0.60273063],\n",
              "       [ 0.16911778, -1.5183862 ,  0.9837622 ,  0.07942677, -1.4421005 ,\n",
              "        -1.272273  , -1.0288479 ,  0.28634924,  1.0551064 ,  0.38677648,\n",
              "        -2.0219698 ,  1.0348428 , -0.2797286 ,  0.2574708 , -2.3068857 ,\n",
              "         0.6403578 ,  2.1930237 , -1.0755359 , -1.3789693 , -0.3213589 ]],\n",
              "      dtype=float32)>"
            ]
          },
          "metadata": {
            "tags": []
          },
          "execution_count": 8
        }
      ]
    },
    {
      "cell_type": "code",
      "metadata": {
        "colab": {
          "base_uri": "https://localhost:8080/"
        },
        "id": "on-6XQiOE7YO",
        "outputId": "2104e358-c3d5-45bb-c9c6-c2b038865dfa"
      },
      "source": [
        "# Normalizing the labels data\n",
        "train_labels_batch = train_labels_batch//4\n",
        "train_labels_batch"
      ],
      "execution_count": null,
      "outputs": [
        {
          "output_type": "execute_result",
          "data": {
            "text/plain": [
              "<tf.Tensor: shape=(160000,), dtype=int32, numpy=array([1, 0, 1, ..., 0, 1, 1], dtype=int32)>"
            ]
          },
          "metadata": {
            "tags": []
          },
          "execution_count": 9
        }
      ]
    },
    {
      "cell_type": "markdown",
      "metadata": {
        "id": "dvFj2KBJFM0D"
      },
      "source": [
        "# 4. Model Building"
      ]
    },
    {
      "cell_type": "markdown",
      "metadata": {
        "id": "WxBgopuMFh4C"
      },
      "source": [
        "## Model is built as below\n",
        "### a. Sequential Model layers- Use AT LEAST 3 hidden layers with appropriate input for each. Choose the best number for hidden units and give reasons.\n",
        "\n",
        "### b. Add L2 regularization to all the layers.\n",
        "\n",
        "### c. Added dropout at layer 2 because that's giving optimum results with good accuracy.\n",
        "### d. Have choosen ReLU for hidden and sigmoid for output as it's binary classed problem."
      ]
    },
    {
      "cell_type": "code",
      "metadata": {
        "id": "YsaoYBBQLVm6"
      },
      "source": [
        "# Let's now build the full model.\n",
        "model = tf.keras.Sequential()\n",
        "#Input layer\n",
        "model.add(hub_layer)\n",
        "#Layer 1\n",
        "model.add(Dense(16, activation='relu', kernel_regularizer='l2'))\n",
        "#Layer 2\n",
        "model.add(Dropout(0.25))\n",
        "model.add(Dense(8, activation='relu', kernel_regularizer='l2'))\n",
        "#Layer 3\n",
        "model.add(Dense(3, activation='relu', kernel_regularizer='l2'))\n",
        "#Output Layer\n",
        "model.add(Dense(1, activation='sigmoid'))"
      ],
      "execution_count": null,
      "outputs": []
    },
    {
      "cell_type": "markdown",
      "metadata": {
        "id": "i312rg7lG6cS"
      },
      "source": [
        "### e. Printing the model summary."
      ]
    },
    {
      "cell_type": "code",
      "metadata": {
        "colab": {
          "base_uri": "https://localhost:8080/"
        },
        "id": "pkepmtF0LZCl",
        "outputId": "9c526d1e-b629-4dcc-d7bf-a298c0e473ec"
      },
      "source": [
        "model.summary()"
      ],
      "execution_count": null,
      "outputs": [
        {
          "output_type": "stream",
          "text": [
            "Model: \"sequential_6\"\n",
            "_________________________________________________________________\n",
            "Layer (type)                 Output Shape              Param #   \n",
            "=================================================================\n",
            "keras_layer_1 (KerasLayer)   (None, 20)                400020    \n",
            "_________________________________________________________________\n",
            "dense_20 (Dense)             (None, 16)                336       \n",
            "_________________________________________________________________\n",
            "dropout_4 (Dropout)          (None, 16)                0         \n",
            "_________________________________________________________________\n",
            "dense_21 (Dense)             (None, 8)                 136       \n",
            "_________________________________________________________________\n",
            "dense_22 (Dense)             (None, 3)                 27        \n",
            "_________________________________________________________________\n",
            "dense_23 (Dense)             (None, 1)                 4         \n",
            "=================================================================\n",
            "Total params: 400,523\n",
            "Trainable params: 400,523\n",
            "Non-trainable params: 0\n",
            "_________________________________________________________________\n"
          ],
          "name": "stdout"
        }
      ]
    },
    {
      "cell_type": "markdown",
      "metadata": {
        "id": "aBakwLZ9Hv8Y"
      },
      "source": [
        "# 5. Model Compilation"
      ]
    },
    {
      "cell_type": "code",
      "metadata": {
        "id": "LlM92AxKLgj8"
      },
      "source": [
        "# Loss function and optimizer.\n",
        "opt = tf.keras.optimizers.Adam(lr=0.1, beta_1=0.9, beta_2=0.999, epsilon=1e-07, amsgrad=False, name='Adam')\n",
        "model.compile(optimizer = opt,\n",
        "              loss='binary_crossentropy',\n",
        "              metrics=['accuracy'])"
      ],
      "execution_count": null,
      "outputs": []
    },
    {
      "cell_type": "markdown",
      "metadata": {
        "id": "iI1nJ9z1IanG"
      },
      "source": [
        "# 6. Model Training"
      ]
    },
    {
      "cell_type": "markdown",
      "metadata": {
        "id": "UpD1ZybPJDBT"
      },
      "source": [
        "### a. Train the model for an appropriate number of epochs. Print the train and validation accuracy and loss for each epoch. Use the appropriate batch size."
      ]
    },
    {
      "cell_type": "code",
      "metadata": {
        "colab": {
          "base_uri": "https://localhost:8080/"
        },
        "id": "x7vm9bGFSjcD",
        "outputId": "b308d987-37d8-4920-bbe2-50053454f752"
      },
      "source": [
        "# Train the model.\n",
        "'''\n",
        "positiveRatedArr = np.where(train_labels_batch == 4)\n",
        "negativeRatedArr = np.where(train_labels_batch == 0)\n",
        "print('Text : {}'.format(train_examples_batch[positiveRatedArr[0][i]]))\n",
        "'''\n",
        "history = model.fit(train_examples_batch, train_labels_batch, epochs = 16, batch_size = 128, validation_split = 0.1)"
      ],
      "execution_count": null,
      "outputs": [
        {
          "output_type": "stream",
          "text": [
            "Epoch 1/16\n",
            "1125/1125 [==============================] - 6s 5ms/step - loss: 0.6386 - accuracy: 0.6558 - val_loss: 0.5566 - val_accuracy: 0.7515\n",
            "Epoch 2/16\n",
            "1125/1125 [==============================] - 5s 5ms/step - loss: 0.5619 - accuracy: 0.7036 - val_loss: 0.5248 - val_accuracy: 0.7515\n",
            "Epoch 3/16\n",
            "1125/1125 [==============================] - 5s 5ms/step - loss: 0.5532 - accuracy: 0.7091 - val_loss: 0.5495 - val_accuracy: 0.7563\n",
            "Epoch 4/16\n",
            "1125/1125 [==============================] - 5s 5ms/step - loss: 0.5514 - accuracy: 0.7581 - val_loss: 0.5586 - val_accuracy: 0.7537\n",
            "Epoch 5/16\n",
            "1125/1125 [==============================] - 5s 5ms/step - loss: 0.5332 - accuracy: 0.7686 - val_loss: 0.6323 - val_accuracy: 0.7556\n",
            "Epoch 6/16\n",
            "1125/1125 [==============================] - 5s 5ms/step - loss: 0.5386 - accuracy: 0.7797 - val_loss: 0.5642 - val_accuracy: 0.7523\n",
            "Epoch 7/16\n",
            "1125/1125 [==============================] - 5s 5ms/step - loss: 0.5224 - accuracy: 0.7865 - val_loss: 0.5491 - val_accuracy: 0.7549\n",
            "Epoch 8/16\n",
            "1125/1125 [==============================] - 5s 5ms/step - loss: 0.5169 - accuracy: 0.7912 - val_loss: 0.5896 - val_accuracy: 0.7559\n",
            "Epoch 9/16\n",
            "1125/1125 [==============================] - 5s 5ms/step - loss: 0.5135 - accuracy: 0.7964 - val_loss: 0.5791 - val_accuracy: 0.7423\n",
            "Epoch 10/16\n",
            "1125/1125 [==============================] - 5s 5ms/step - loss: 0.5135 - accuracy: 0.7979 - val_loss: 0.5967 - val_accuracy: 0.7546\n",
            "Epoch 11/16\n",
            "1125/1125 [==============================] - 5s 5ms/step - loss: 0.5389 - accuracy: 0.7728 - val_loss: 0.5482 - val_accuracy: 0.7561\n",
            "Epoch 12/16\n",
            "1125/1125 [==============================] - 5s 5ms/step - loss: 0.5115 - accuracy: 0.7954 - val_loss: 0.5716 - val_accuracy: 0.7562\n",
            "Epoch 13/16\n",
            "1125/1125 [==============================] - 5s 5ms/step - loss: 0.5066 - accuracy: 0.8014 - val_loss: 0.5764 - val_accuracy: 0.7561\n",
            "Epoch 14/16\n",
            "1125/1125 [==============================] - 5s 5ms/step - loss: 0.5113 - accuracy: 0.8018 - val_loss: 0.5730 - val_accuracy: 0.7514\n",
            "Epoch 15/16\n",
            "1125/1125 [==============================] - 5s 5ms/step - loss: 0.5067 - accuracy: 0.8026 - val_loss: 0.5618 - val_accuracy: 0.7531\n",
            "Epoch 16/16\n",
            "1125/1125 [==============================] - 5s 5ms/step - loss: 0.5042 - accuracy: 0.8056 - val_loss: 0.5531 - val_accuracy: 0.7536\n"
          ],
          "name": "stdout"
        }
      ]
    },
    {
      "cell_type": "markdown",
      "metadata": {
        "id": "jUyUX5n2I_aJ"
      },
      "source": [
        "### Plot the loss and accuracy history graphs for both train and validation set. Print the total time taken for training."
      ]
    },
    {
      "cell_type": "code",
      "metadata": {
        "colab": {
          "base_uri": "https://localhost:8080/",
          "height": 573
        },
        "id": "C2xVc7tMI38r",
        "outputId": "b0dc794f-7eac-4047-cf9c-d5a632819602"
      },
      "source": [
        "# plotting training and validation loss\n",
        "loss = history.history['loss']\n",
        "val_loss = history.history['val_loss']\n",
        "epochs = range(1, len(loss) + 1)\n",
        "plt.plot(epochs, loss, color='red', label='Training loss')\n",
        "plt.plot(epochs, val_loss, color='green', label='Validation loss')\n",
        "plt.title('Training and Validation loss')\n",
        "plt.xlabel('Epochs')\n",
        "plt.ylabel('Loss')\n",
        "plt.legend()\n",
        "plt.show()\n",
        "\n",
        "# plotting training and validation accuracy\n",
        "\n",
        "acc = history.history['accuracy']\n",
        "val_acc = history.history['val_accuracy']\n",
        "plt.plot(epochs, acc, color='red', label='Training acc')\n",
        "plt.plot(epochs, val_acc, color='green', label='Validation acc')\n",
        "plt.title('Training and Validation accuracy')\n",
        "plt.xlabel('Epochs')\n",
        "plt.ylabel('Accuracy')\n",
        "plt.legend()\n",
        "plt.show()"
      ],
      "execution_count": null,
      "outputs": [
        {
          "output_type": "display_data",
          "data": {
            "image/png": "[encoded data removed]",
            "text/plain": [
              "<Figure size 432x288 with 1 Axes>"
            ]
          },
          "metadata": {
            "tags": [],
            "needs_background": "light"
          }
        },
        {
          "output_type": "display_data",
          "data": {
            "image/png": "[encoded data removed]",
            "text/plain": [
              "<Figure size 432x288 with 1 Axes>"
            ]
          },
          "metadata": {
            "tags": [],
            "needs_background": "light"
          }
        }
      ]
    },
    {
      "cell_type": "markdown",
      "metadata": {
        "id": "Gxz3Chr9aH4o"
      },
      "source": [
        "# 7. Model Evaluation"
      ]
    },
    {
      "cell_type": "markdown",
      "metadata": {
        "id": "0o1FK_MuaP6H"
      },
      "source": [
        "### a. Print the final train and validation loss and accuracy. Print confusion matrix and classification report for the validation dataset. Analyse and report the best and worst performing class."
      ]
    },
    {
      "cell_type": "markdown",
      "metadata": {
        "id": "EiQovePJaTJv"
      },
      "source": [
        "### b. Print the two most incorrectly classified texts for each class in the test dataset."
      ]
    },
    {
      "cell_type": "markdown",
      "metadata": {
        "id": "tAz6sgsaMjYD"
      },
      "source": [
        "### Confusion matrix and classification"
      ]
    },
    {
      "cell_type": "code",
      "metadata": {
        "id": "4JV9s-Ksal5q"
      },
      "source": [
        "test_labels_batch = test_labels_batch//4"
      ],
      "execution_count": null,
      "outputs": []
    },
    {
      "cell_type": "code",
      "metadata": {
        "colab": {
          "base_uri": "https://localhost:8080/"
        },
        "id": "W_LF56pHNzZv",
        "outputId": "ec7e2267-6dad-4a47-c264-bf4c0db9d2ea"
      },
      "source": [
        "# Evaluate the model\n",
        "results = model.evaluate(test_examples_batch, test_labels_batch, verbose=0)\n",
        "for name, value in zip(model.metrics_names, results):\n",
        "  print(\"%s: %.3f\" % (name, value))"
      ],
      "execution_count": null,
      "outputs": [
        {
          "output_type": "stream",
          "text": [
            "loss: 0.480\n",
            "accuracy: 0.820\n"
          ],
          "name": "stdout"
        }
      ]
    },
    {
      "cell_type": "code",
      "metadata": {
        "id": "tyXiXGn_I3w3"
      },
      "source": [
        "Y_prediction = model.predict(test_examples_batch[:])\n",
        "Y_prediction = np.round_(Y_prediction)"
      ],
      "execution_count": null,
      "outputs": []
    },
    {
      "cell_type": "code",
      "metadata": {
        "colab": {
          "base_uri": "https://localhost:8080/"
        },
        "id": "ykWt2R6RMyaB",
        "outputId": "c3716c34-1245-45a0-fd79-aa6567380ede"
      },
      "source": [
        "# Classification Report\n",
        "\n",
        "from sklearn.metrics import classification_report \n",
        "\n",
        "print(classification_report(test_labels_batch[:], Y_prediction))"
      ],
      "execution_count": null,
      "outputs": [
        {
          "output_type": "stream",
          "text": [
            "              precision    recall  f1-score   support\n",
            "\n",
            "           0       0.80      0.85      0.82      7916\n",
            "           1       0.84      0.79      0.82      8084\n",
            "\n",
            "    accuracy                           0.82     16000\n",
            "   macro avg       0.82      0.82      0.82     16000\n",
            "weighted avg       0.82      0.82      0.82     16000\n",
            "\n"
          ],
          "name": "stdout"
        }
      ]
    },
    {
      "cell_type": "code",
      "metadata": {
        "colab": {
          "base_uri": "https://localhost:8080/",
          "height": 483
        },
        "id": "tVUquaFqM5lH",
        "outputId": "4aa703b7-06c0-4bc9-ddc2-d59a80534700"
      },
      "source": [
        "# confusion matrix\n",
        "from sklearn.metrics import confusion_matrix\n",
        "import seaborn as sns\n",
        "\n",
        "# compute the confusion matrix\n",
        "confusion_mtx = confusion_matrix(test_labels_batch, Y_prediction) \n",
        "\n",
        "plt.figure(figsize=(10,8))\n",
        "sns.heatmap(confusion_mtx, annot=True, fmt=\"d\");"
      ],
      "execution_count": null,
      "outputs": [
        {
          "output_type": "display_data",
          "data": {
            "image/png": "[encoded data removed]",
            "text/plain": [
              "<Figure size 720x576 with 2 Axes>"
            ]
          },
          "metadata": {
            "tags": [],
            "needs_background": "light"
          }
        }
      ]
    },
    {
      "cell_type": "markdown",
      "metadata": {
        "id": "nnsFjr_5JjiE"
      },
      "source": [
        "# Hyperparameter Tuning"
      ]
    },
    {
      "cell_type": "markdown",
      "metadata": {
        "id": "OGFwzyS1J71R"
      },
      "source": [
        "### 1. Changing Network Depth: \n",
        "Removing 3rd layer (code commented)"
      ]
    },
    {
      "cell_type": "code",
      "metadata": {
        "id": "8xkFCg4cJxzS"
      },
      "source": [
        "# Let's now build the full model.\n",
        "model2 = tf.keras.Sequential()\n",
        "#Input layer\n",
        "model2.add(hub_layer)\n",
        "#Layer 1\n",
        "model2.add(Dense(16, activation='relu', kernel_regularizer='l2'))\n",
        "#Layer 2\n",
        "model2.add(Dropout(0.25))\n",
        "model2.add(Dense(8, activation='relu', kernel_regularizer='l2'))\n",
        "#Layer 3\n",
        "#model2.add(Dense(3, activation='relu', kernel_regularizer='l2'))\n",
        "#Output Layer\n",
        "model2.add(Dense(1, activation='sigmoid'))"
      ],
      "execution_count": null,
      "outputs": []
    },
    {
      "cell_type": "code",
      "metadata": {
        "id": "aV4NkQRrLxTS"
      },
      "source": [
        "# Loss function and optimizer.\n",
        "opt = tf.keras.optimizers.Adam(lr=0.1, beta_1=0.9, beta_2=0.999, epsilon=1e-07, amsgrad=False, name='Adam')\n",
        "model2.compile(optimizer = opt,\n",
        "              loss='binary_crossentropy',\n",
        "              metrics=['accuracy'])"
      ],
      "execution_count": null,
      "outputs": []
    },
    {
      "cell_type": "code",
      "metadata": {
        "colab": {
          "base_uri": "https://localhost:8080/"
        },
        "id": "HvGPAg4VMIEx",
        "outputId": "a1b78908-e22b-4c9e-cafd-82bb5f2035e8"
      },
      "source": [
        "# Train the model.\n",
        "history = model2.fit(train_examples_batch, train_labels_batch, epochs = 10, batch_size = 128, validation_split = 0.1)"
      ],
      "execution_count": null,
      "outputs": [
        {
          "output_type": "stream",
          "text": [
            "Epoch 1/10\n",
            "1125/1125 [==============================] - 6s 5ms/step - loss: 0.7741 - accuracy: 0.7899 - val_loss: 0.5812 - val_accuracy: 0.7575\n",
            "Epoch 2/10\n",
            "1125/1125 [==============================] - 5s 5ms/step - loss: 0.4866 - accuracy: 0.8108 - val_loss: 0.5814 - val_accuracy: 0.7595\n",
            "Epoch 3/10\n",
            "1125/1125 [==============================] - 5s 5ms/step - loss: 0.4966 - accuracy: 0.8088 - val_loss: 0.5643 - val_accuracy: 0.7546\n",
            "Epoch 4/10\n",
            "1125/1125 [==============================] - 5s 5ms/step - loss: 0.4985 - accuracy: 0.8115 - val_loss: 0.5952 - val_accuracy: 0.7564\n",
            "Epoch 5/10\n",
            "1125/1125 [==============================] - 5s 5ms/step - loss: 0.5078 - accuracy: 0.8104 - val_loss: 0.5850 - val_accuracy: 0.7551\n",
            "Epoch 6/10\n",
            "1125/1125 [==============================] - 5s 5ms/step - loss: 0.5048 - accuracy: 0.8105 - val_loss: 0.6342 - val_accuracy: 0.7509\n",
            "Epoch 7/10\n",
            "1125/1125 [==============================] - 5s 5ms/step - loss: 0.5053 - accuracy: 0.8118 - val_loss: 0.5668 - val_accuracy: 0.7556\n",
            "Epoch 8/10\n",
            "1125/1125 [==============================] - 5s 5ms/step - loss: 0.4973 - accuracy: 0.8139 - val_loss: 0.6425 - val_accuracy: 0.7551\n",
            "Epoch 9/10\n",
            "1125/1125 [==============================] - 5s 5ms/step - loss: 0.5017 - accuracy: 0.8122 - val_loss: 0.6105 - val_accuracy: 0.7547\n",
            "Epoch 10/10\n",
            "1125/1125 [==============================] - 5s 5ms/step - loss: 0.5076 - accuracy: 0.8131 - val_loss: 0.5875 - val_accuracy: 0.7554\n"
          ],
          "name": "stdout"
        }
      ]
    },
    {
      "cell_type": "markdown",
      "metadata": {
        "id": "fB5MoEPfcfSd"
      },
      "source": [
        "### Model Evaluation"
      ]
    },
    {
      "cell_type": "code",
      "metadata": {
        "colab": {
          "base_uri": "https://localhost:8080/"
        },
        "id": "_pvV6ehdciSD",
        "outputId": "2e46f8f2-d13b-407b-dec5-9f102a59929a"
      },
      "source": [
        "# Evaluate the model\n",
        "results = model2.evaluate(test_examples_batch, test_labels_batch, verbose=0)\n",
        "for name, value in zip(model2.metrics_names, results):\n",
        "  print(\"%s: %.3f\" % (name, value))"
      ],
      "execution_count": null,
      "outputs": [
        {
          "output_type": "stream",
          "text": [
            "loss: 0.475\n",
            "accuracy: 0.829\n"
          ],
          "name": "stdout"
        }
      ]
    },
    {
      "cell_type": "code",
      "metadata": {
        "id": "0-yBdLpMcmXF"
      },
      "source": [
        "Y_prediction = model2.predict(test_examples_batch[:])\n",
        "Y_prediction = np.round_(Y_prediction)"
      ],
      "execution_count": null,
      "outputs": []
    },
    {
      "cell_type": "code",
      "metadata": {
        "colab": {
          "base_uri": "https://localhost:8080/"
        },
        "id": "xlxwOVRLcsLz",
        "outputId": "b7fb078e-ecf6-4314-96d9-f166ec28a625"
      },
      "source": [
        "# Classification Report\n",
        "\n",
        "from sklearn.metrics import classification_report \n",
        "\n",
        "print(classification_report(test_labels_batch[:], Y_prediction))"
      ],
      "execution_count": null,
      "outputs": [
        {
          "output_type": "stream",
          "text": [
            "              precision    recall  f1-score   support\n",
            "\n",
            "           0       0.82      0.84      0.83      7916\n",
            "           1       0.84      0.82      0.83      8084\n",
            "\n",
            "    accuracy                           0.83     16000\n",
            "   macro avg       0.83      0.83      0.83     16000\n",
            "weighted avg       0.83      0.83      0.83     16000\n",
            "\n"
          ],
          "name": "stdout"
        }
      ]
    },
    {
      "cell_type": "code",
      "metadata": {
        "colab": {
          "base_uri": "https://localhost:8080/",
          "height": 483
        },
        "id": "oZKKOtzzcu95",
        "outputId": "465a093d-10dc-4108-b7fa-15ced143af5e"
      },
      "source": [
        "# confusion matrix\n",
        "from sklearn.metrics import confusion_matrix\n",
        "import seaborn as sns\n",
        "\n",
        "# compute the confusion matrix\n",
        "confusion_mtx = confusion_matrix(test_labels_batch, Y_prediction) \n",
        "\n",
        "plt.figure(figsize=(10,8))\n",
        "sns.heatmap(confusion_mtx, annot=True, fmt=\"d\");"
      ],
      "execution_count": null,
      "outputs": [
        {
          "output_type": "display_data",
          "data": {
            "image/png": "[encoded data removed]",
            "text/plain": [
              "<Figure size 720x576 with 2 Axes>"
            ]
          },
          "metadata": {
            "tags": [],
            "needs_background": "light"
          }
        }
      ]
    },
    {
      "cell_type": "markdown",
      "metadata": {
        "id": "SQOs0DrAKG64"
      },
      "source": [
        "### 2. Optimiser: \n",
        "Using RMSProp optimizer with L1 regularizer"
      ]
    },
    {
      "cell_type": "code",
      "metadata": {
        "id": "ujU18l96L3tl"
      },
      "source": [
        "# Let's now build the full model.\n",
        "model3 = tf.keras.Sequential()\n",
        "#Input layer\n",
        "model3.add(hub_layer)\n",
        "#Layer 1\n",
        "model3.add(Dense(16, activation='relu', kernel_regularizer='l1'))\n",
        "#Layer 2\n",
        "model3.add(Dropout(0.25))\n",
        "model3.add(Dense(8, activation='relu', kernel_regularizer='l1'))\n",
        "#Layer 3\n",
        "model3.add(Dense(3, activation='relu', kernel_regularizer='l1'))\n",
        "#Output Layer\n",
        "model3.add(Dense(1, activation='sigmoid'))"
      ],
      "execution_count": null,
      "outputs": []
    },
    {
      "cell_type": "code",
      "metadata": {
        "id": "vc8gUnVnLYcj"
      },
      "source": [
        "# Loss function and optimizer.\n",
        "opt = tf.keras.optimizers.SGD(learning_rate=0.01, momentum=0.0, nesterov=False, name='SGD')\n",
        "model3.compile(optimizer = opt,\n",
        "              loss='binary_crossentropy',\n",
        "              metrics=['accuracy'])"
      ],
      "execution_count": null,
      "outputs": []
    },
    {
      "cell_type": "code",
      "metadata": {
        "colab": {
          "base_uri": "https://localhost:8080/"
        },
        "id": "IIWHt0a2MLJU",
        "outputId": "712efe9e-2e3c-4f59-d772-1ca684027b9e"
      },
      "source": [
        "# Train the model.\n",
        "history = model3.fit(train_examples_batch, train_labels_batch, epochs = 16, batch_size = 128, validation_split = 0.1)"
      ],
      "execution_count": null,
      "outputs": [
        {
          "output_type": "stream",
          "text": [
            "Epoch 1/16\n",
            "1125/1125 [==============================] - 5s 5ms/step - loss: 1.4790 - accuracy: 0.7660 - val_loss: 1.1179 - val_accuracy: 0.7540\n",
            "Epoch 2/16\n",
            "1125/1125 [==============================] - 5s 4ms/step - loss: 0.9667 - accuracy: 0.8167 - val_loss: 0.8012 - val_accuracy: 0.7561\n",
            "Epoch 3/16\n",
            "1125/1125 [==============================] - 5s 4ms/step - loss: 0.6831 - accuracy: 0.8216 - val_loss: 0.6373 - val_accuracy: 0.7561\n",
            "Epoch 4/16\n",
            "1125/1125 [==============================] - 5s 4ms/step - loss: 0.5550 - accuracy: 0.8234 - val_loss: 0.5945 - val_accuracy: 0.7571\n",
            "Epoch 5/16\n",
            "1125/1125 [==============================] - 5s 4ms/step - loss: 0.5185 - accuracy: 0.8257 - val_loss: 0.5793 - val_accuracy: 0.7555\n",
            "Epoch 6/16\n",
            "1125/1125 [==============================] - 5s 4ms/step - loss: 0.5040 - accuracy: 0.8255 - val_loss: 0.5735 - val_accuracy: 0.7558\n",
            "Epoch 7/16\n",
            "1125/1125 [==============================] - 5s 4ms/step - loss: 0.4939 - accuracy: 0.8248 - val_loss: 0.5690 - val_accuracy: 0.7554\n",
            "Epoch 8/16\n",
            "1125/1125 [==============================] - 5s 4ms/step - loss: 0.4873 - accuracy: 0.8242 - val_loss: 0.5633 - val_accuracy: 0.7553\n",
            "Epoch 9/16\n",
            "1125/1125 [==============================] - 5s 4ms/step - loss: 0.4842 - accuracy: 0.8248 - val_loss: 0.5653 - val_accuracy: 0.7553\n",
            "Epoch 10/16\n",
            "1125/1125 [==============================] - 5s 4ms/step - loss: 0.4835 - accuracy: 0.8250 - val_loss: 0.5668 - val_accuracy: 0.7554\n",
            "Epoch 11/16\n",
            "1125/1125 [==============================] - 5s 4ms/step - loss: 0.4809 - accuracy: 0.8246 - val_loss: 0.5669 - val_accuracy: 0.7557\n",
            "Epoch 12/16\n",
            "1125/1125 [==============================] - 5s 4ms/step - loss: 0.4821 - accuracy: 0.8236 - val_loss: 0.5710 - val_accuracy: 0.7562\n",
            "Epoch 13/16\n",
            "1125/1125 [==============================] - 5s 4ms/step - loss: 0.4809 - accuracy: 0.8236 - val_loss: 0.5706 - val_accuracy: 0.7553\n",
            "Epoch 14/16\n",
            "1125/1125 [==============================] - 5s 5ms/step - loss: 0.4821 - accuracy: 0.8222 - val_loss: 0.5733 - val_accuracy: 0.7566\n",
            "Epoch 15/16\n",
            "1125/1125 [==============================] - 5s 4ms/step - loss: 0.4758 - accuracy: 0.8252 - val_loss: 0.5641 - val_accuracy: 0.7558\n",
            "Epoch 16/16\n",
            "1125/1125 [==============================] - 5s 4ms/step - loss: 0.4753 - accuracy: 0.8259 - val_loss: 0.5710 - val_accuracy: 0.7558\n"
          ],
          "name": "stdout"
        }
      ]
    },
    {
      "cell_type": "code",
      "metadata": {
        "colab": {
          "base_uri": "https://localhost:8080/"
        },
        "id": "dHqNjoCedlJY",
        "outputId": "8e9863ab-6794-4e52-8e2d-89fa20f61387"
      },
      "source": [
        "# Evaluate the model\n",
        "results = model3.evaluate(test_examples_batch, test_labels_batch, verbose=0)\n",
        "for name, value in zip(model3.metrics_names, results):\n",
        "  print(\"%s: %.3f\" % (name, value))"
      ],
      "execution_count": null,
      "outputs": [
        {
          "output_type": "stream",
          "text": [
            "loss: 0.465\n",
            "accuracy: 0.831\n"
          ],
          "name": "stdout"
        }
      ]
    },
    {
      "cell_type": "code",
      "metadata": {
        "id": "6f5TTLVydk-7"
      },
      "source": [
        "Y_prediction = model3.predict(test_examples_batch[:])\n",
        "Y_prediction = np.round_(Y_prediction)"
      ],
      "execution_count": null,
      "outputs": []
    },
    {
      "cell_type": "code",
      "metadata": {
        "colab": {
          "base_uri": "https://localhost:8080/"
        },
        "id": "c_8rOL6Ld1Ur",
        "outputId": "4886a63e-a479-42b8-ab8c-980c83f183ce"
      },
      "source": [
        "# Classification Report\n",
        "\n",
        "from sklearn.metrics import classification_report \n",
        "\n",
        "print(classification_report(test_labels_batch[:], Y_prediction))"
      ],
      "execution_count": null,
      "outputs": [
        {
          "output_type": "stream",
          "text": [
            "              precision    recall  f1-score   support\n",
            "\n",
            "           0       0.82      0.84      0.83      7916\n",
            "           1       0.84      0.82      0.83      8084\n",
            "\n",
            "    accuracy                           0.83     16000\n",
            "   macro avg       0.83      0.83      0.83     16000\n",
            "weighted avg       0.83      0.83      0.83     16000\n",
            "\n"
          ],
          "name": "stdout"
        }
      ]
    },
    {
      "cell_type": "markdown",
      "metadata": {
        "id": "sNOjf9lad6n_"
      },
      "source": [
        "# optimiztion increases accuracy."
      ]
    }
  ]
}